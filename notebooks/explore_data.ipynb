{
 "cells": [
  {
   "cell_type": "code",
   "execution_count": 3,
   "metadata": {},
   "outputs": [
    {
     "data": {
      "text/plain": [
       "pyarrow.Table\n",
       "Adjustment Type: string\n",
       "Day: int64\n",
       "Country: string\n",
       "Video ID: string\n",
       "Custom ID: string\n",
       "Content Type: string\n",
       "Video Title: string\n",
       "Video Duration (sec): int64\n",
       "Username: string\n",
       "Uploader: string\n",
       "Channel Display Name: string\n",
       "Channel ID: string\n",
       "Claim Type: string\n",
       "Claim Origin: string\n",
       "Multiple Claims?: string\n",
       "Asset ID: string\n",
       "Policy: string\n",
       "Owned Views: int64\n",
       "YouTube Revenue Split: double\n",
       "Partner Revenue: double\n",
       "----\n",
       "Adjustment Type: [[\"None\",\"None\",\"None\",\"None\",\"None\",...,\"None\",\"None\",\"None\",\"None\",\"None\"],[\"None\",\"None\",\"None\",\"None\",\"None\",...,\"None\",\"None\",\"None\",\"None\",\"None\"],...,[\"None\",\"None\",\"None\",\"None\",\"None\",...,\"None\",\"None\",\"None\",\"None\",\"None\"],[\"None\",\"None\",\"None\",\"None\",\"None\",...,\"None\",\"None\",\"None\",\"None\",\"None\"]]\n",
       "Day: [[20230601,20230601,20230601,20230601,20230601,...,20230602,20230602,20230602,20230602,20230602],[20230602,20230602,20230602,20230602,20230602,...,20230603,20230603,20230603,20230603,20230603],...,[20230629,20230629,20230629,20230629,20230629,...,20230630,20230630,20230630,20230630,20230630],[20230630,20230630,20230630,20230630,20230630,...,20230630,20230630,20230630,20230630,20230630]]\n",
       "Country: [[\"AE\",\"AE\",\"AE\",\"AE\",\"AE\",...,\"BR\",\"BR\",\"BR\",\"BR\",\"BR\"],[\"BR\",\"BR\",\"BR\",\"BR\",\"BR\",...,\"CO\",\"CO\",\"CO\",\"CO\",\"CO\"],...,[\"RO\",\"RO\",\"RO\",\"RO\",\"RO\",...,\"US\",\"US\",\"US\",\"US\",\"US\"],[\"US\",\"US\",\"US\",\"US\",\"US\",...,\"ZA\",\"ZA\",\"ZA\",\"ZA\",\"ZA\"]]\n",
       "Video ID: [[\"-mnH9-SX2Tg\",\"2HgS_gGfhZM\",\"2i4Guz5fKIU\",\"353lHGbvu8o\",\"4kQNx8HT9uw\",...,\"liDOq1BqeSk\",\"lk5miC4iYq8\",\"lmgGAODruJA\",\"m3rLLALWYyk\",\"mGcQSxYXeKY\"],[\"n1x6nQjVFLs\",\"nIyjqvWC9Do\",\"oOyfBIkbnCA\",\"ofBd2YK2HdM\",\"p1zrweVN4l4\",...,\"MDMWsTXON-E\",\"MhZcm5dBZ1A\",\"Mnr-XUGK45s\",\"NCjA0vBDbgA\",\"ORs-dVMXlyk\"],...,[\"tW9i87V_Spc\",\"td_CYmQujd0\",\"teFgKyisViw\",\"vBz3-D0DQsQ\",\"xM0xl9NRe30\",...,\"6hlwuz3e6xg\",\"6nGcX1zrij0\",\"6r0x0s8xa20\",\"6w-ufG8_T1U\",\"6xq2MJ5JSPE\"],[\"7Du8Kw_pj8M\",\"7GC00mioPrM\",\"7HfdPjVvl6s\",\"7PSOr3JnaXs\",\"7QOKXWcHuD8\",...,\"v1CiINFsBkY\",\"w2MnJGBpSR4\",\"wx_DXVFaDvs\",\"yIdKbSeAueY\",\"yWZeomzkCaU\"]]\n",
       "Custom ID: [[\"-mnH9-SX2Tg\",\"2HgS_gGfhZM\",\"2i4Guz5fKIU\",\"\",\"\",...,\"liDOq1BqeSk\",\"lk5miC4iYq8\",\"lmgGAODruJA\",\"m3rLLALWYyk\",\"mGcQSxYXeKY\"],[\"\",\"nIyjqvWC9Do\",\"oOyfBIkbnCA\",\"\",\"\",...,\"MDMWsTXON-E\",\"MhZcm5dBZ1A\",\"Mnr-XUGK45s\",\"NCjA0vBDbgA\",\"ORs-dVMXlyk\"],...,[\"tW9i87V_Spc\",\"\",\"teFgKyisViw\",\"vBz3-D0DQsQ\",\"xM0xl9NRe30\",...,\"6hlwuz3e6xg\",\"6nGcX1zrij0\",\"6r0x0s8xa20\",\"6w-ufG8_T1U\",\"\"],[\"7Du8Kw_pj8M\",\"7GC00mioPrM\",\"7HfdPjVvl6s\",\"7PSOr3JnaXs\",\"7QOKXWcHuD8\",...,\"\",\"w2MnJGBpSR4\",\"wx_DXVFaDvs\",\"yIdKbSeAueY\",\"\"]]\n",
       "Content Type: [[\"Partner-provided\",\"Partner-provided\",\"Partner-provided\",\"Partner-provided\",\"UGC\",...,\"Partner-provided\",\"Partner-provided\",\"Partner-provided\",\"Partner-provided\",\"Partner-provided\"],[\"UGC\",\"Partner-provided\",\"Partner-provided\",\"Partner-provided\",\"Partner-provided\",...,\"Partner-provided\",\"Partner-provided\",\"Partner-provided\",\"Partner-provided\",\"Partner-provided\"],...,[\"Partner-provided\",\"Partner-provided\",\"Partner-provided\",\"Partner-provided\",\"Partner-provided\",...,\"Partner-provided\",\"Partner-provided\",\"Partner-provided\",\"Partner-provided\",\"Partner-provided\"],[\"Partner-provided\",\"Partner-provided\",\"Partner-provided\",\"Partner-provided\",\"Partner-provided\",...,\"Partner-provided\",\"Partner-provided\",\"Partner-provided\",\"Partner-provided\",\"Partner-provided\"]]\n",
       "Video Title: [[\"Cigarettes After Sex - Apocalypse (Live on KEXP)\",\"Josh Turner - Your Man (Bing Lounge)\",\"Thievery Corporation - Le Monde (Live on KEXP)\",\"The Lumineers - Full Performance (Live on KEXP)\",\"Noah Cyrus: Best Live Vocals\",...,\"Raveena - Full Performance (Live on KEXP)\",\"Curtis Harding - Full Performance (Live on KEXP)\",\"Amyl and The Sniffers - Guided By Angels (Live on KEXP)\",\"Nahko - We Are on Time\",\"Lord Huron - She Lit A Fire (Bing Lounge)\"],[\"Ondatrópica + Thalma De Freitas + Quantic + Frente Cumbiero\",\"The Joy Formidable - While The Flies (Live on KEXP)\",\"Andrew Bird - Sisyphus (Live on KEXP)\",\"Phantogram - When I'm Small (Live on KEXP)\",\"Mike Posner - I Took a Pill in Ibiza\",...,\"GusGus - Crossfade (Live on KEXP)\",\"Iron & Wine - Upward Over The Mountain (Live on KEXP)\",\"All Them Witches - Enemy Of My Enemy (Live on KEXP)\",\"GusGus - Airwaves (Live on KEXP)\",\"Bandalos Chinos - Mi Fiesta (Live on KEXP)\"],...,[\"Altın Gün - Tatlı Dile Güler Yüze (Live on KEXP)\",\"Lord Huron - The Night We Met (Live on KEXP)\",\"Ana Tijoux - Full Performance (Live on KEXP at Home)\",\"Oh Sees - Full Performance (Live on KEXP)\",\"Sam Hunt - Take Your Time (Bing Lounge)\",...,\"Duo Ruut - Full Performance (Live on KEXP)\",\"Alvvays - Many Mirrors (Live on KEXP)\",\"Drake White - Grinnin' (Live in the Bing Lounge)\",\"Crumb - BNR (Live on KEXP)\",\"The 1975 - Is There Somebody Who Can Watch You (Bing Lounge)\"],[\"AURORA - A Temporary High at 101.9 KINK | PNC Live Studio Session\",\"Jason Isbell - St. Peter's Autograph (Live on KEXP)\",\"The Murlocs - Performance & Interview (Live on KEXP at Home)\",\"Pigs Pigs Pigs Pigs Pigs Pigs Pigs - Mr Medicine (Live on KEXP)\",\"Alvvays - Belinda Says (Live on KEXP)\",...,\"Daughter - Smother (Live on KEXP)\",\"Phosphorescent - Song For Zula (Live on KEXP)\",\"Anthony Hall - No Diggity (Blackstreet Cover) | Sofar Las Vegas\",\"City of the Sun - Intro (The xx Cover) | Sofar NYC\",\"Pixies - Full Performance (Live on KEXP)\"]]\n",
       "Video Duration (sec): [[315,240,262,4000,1221,...,1441,1380,200,375,291],[3245,250,382,284,311,...,666,217,228,626,290],...,[198,209,1149,1909,217,...,1301,196,336,224,152],[277,264,2674,171,181,...,305,354,222,384,1730]]\n",
       "Username: [[\"CaravanAffiliates\",\"CaravanAffiliates\",\"CaravanAffiliates\",\"CaravanAffiliates\",\"CaravanAffiliates\",...,\"CaravanAffiliates\",\"CaravanAffiliates\",\"CaravanAffiliates\",\"CaravanAffiliates\",\"CaravanAffiliates\"],[\"CaravanAffiliates\",\"CaravanAffiliates\",\"CaravanAffiliates\",\"CaravanAffiliates\",\"CaravanAffiliates\",...,\"CaravanAffiliates\",\"CaravanAffiliates\",\"CaravanAffiliates\",\"CaravanAffiliates\",\"CaravanAffiliates\"],...,[\"CaravanAffiliates\",\"CaravanAffiliates\",\"CaravanAffiliates\",\"CaravanAffiliates\",\"CaravanAffiliates\",...,\"CaravanAffiliates\",\"CaravanAffiliates\",\"CaravanAffiliates\",\"CaravanAffiliates\",\"CaravanAffiliates\"],[\"CaravanAffiliates\",\"CaravanAffiliates\",\"CaravanAffiliates\",\"CaravanAffiliates\",\"CaravanAffiliates\",...,\"CaravanAffiliates\",\"CaravanAffiliates\",\"CaravanAffiliates\",\"CaravanAffiliates\",\"CaravanAffiliates\"]]\n",
       "Uploader: [[\"kexpradio\",\"987thebull\",\"kexpradio\",\"kexpradio\",\"\",...,\"kexpradio\",\"kexpradio\",\"kexpradio\",\"\",\"kinkradio\"],[\"shednov\",\"kexpradio\",\"kexpradio\",\"kexpradio\",\"\",...,\"kexpradio\",\"kexpradio\",\"kexpradio\",\"kexpradio\",\"kexpradio\"],...,[\"kexpradio\",\"kexpradio\",\"kexpradio\",\"kexpradio\",\"987thebull\",...,\"kexpradio\",\"kexpradio\",\"987thebull\",\"kexpradio\",\"kinkradio\"],[\"\",\"kexpradio\",\"kexpradio\",\"kexpradio\",\"kexpradio\",...,\"kexpradio\",\"kexpradio\",\"sofarsounds\",\"sofarsounds\",\"kexpradio\"]]\n",
       "..."
      ]
     },
     "execution_count": 3,
     "metadata": {},
     "output_type": "execute_result"
    }
   ],
   "source": [
    "import pandas as pd\n",
    "import pyarrow as pa\n",
    "import pyarrow.parquet as pq\n",
    "import numpy as np\n",
    "import matplotlib.pyplot as plt\n",
    "import sklearn.linear_model as lm\n",
    "import math\n",
    "from scipy import stats\n",
    "import gzip\n",
    "from pyarrow import csv\n",
    "\n",
    "\n",
    "# 58141 rows × 43 columns\n",
    "# df = pd.read_csv('/Users/jm/temp/caravan/video_report_CaravanAffiliates_V_v1-3.csv', sep=\",\")\n",
    "# # df.to_parquet('/Users/jm/temp/caravan/video_report_CaravanAffiliates_V_v1-3.parquet')\n",
    "# table = pa.Table.from_pandas(df)\n",
    "# table\n",
    "\n",
    "\n",
    "def header_start(filename):\n",
    "    chunk = pd.read_csv(filename, chunksize=1)\n",
    "    first_row = next(chunk)\n",
    "    num_cols = len(first_row)\n",
    "    return 1 if num_cols == 1 else 0\n",
    "\n",
    "# file_path = '/Users/jm/temp/caravan/video_report_CaravanAffiliates_V_v1-3.csv'\n",
    "file_path = '/Users/jm/temp/caravan/Caravan Historical Data/2023/6.23/1_red_music_rawdata_video_v1-1/YouTube_CaravanAffiliates_M_20230601_20230630_red_music_rawdata_video_v1-1.csv.gz'\n",
    "\n",
    "# automatically detects gzip but not zip ??\n",
    "# table = csv.read_csv('/Users/jm/temp/caravan/video_report_CaravanAffiliates_V_v1-3.csv')\n",
    "table = csv.read_csv(file_path, csv.ReadOptions(\n",
    "                               skip_rows=header_start(file_path)))\n",
    "# pq.write_table(table, '/Users/jm/temp/caravan/video_report_CaravanAffiliates_V_v1-3.example.parquet')\n",
    "table"
   ]
  }
 ],
 "metadata": {
  "kernelspec": {
   "display_name": "datawagon-UJhKYycn-py3.11",
   "language": "python",
   "name": "python3"
  },
  "language_info": {
   "codemirror_mode": {
    "name": "ipython",
    "version": 3
   },
   "file_extension": ".py",
   "mimetype": "text/x-python",
   "name": "python",
   "nbconvert_exporter": "python",
   "pygments_lexer": "ipython3",
   "version": "3.11.4"
  },
  "orig_nbformat": 4
 },
 "nbformat": 4,
 "nbformat_minor": 2
}
