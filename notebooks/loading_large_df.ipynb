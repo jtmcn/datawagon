{
 "cells": [
  {
   "cell_type": "markdown",
   "metadata": {},
   "source": [
    "# Load csv into dataframe"
   ]
  },
  {
   "cell_type": "markdown",
   "metadata": {},
   "source": [
    "### Pandas\n",
    "\n",
    "Current Implementation - uses 3.1GB to load entire df into memory takes 7+ mins\n",
    "\n"
   ]
  },
  {
   "cell_type": "code",
   "execution_count": 4,
   "metadata": {},
   "outputs": [
    {
     "name": "stdout",
     "output_type": "stream",
     "text": [
      "[CsvFileInfo(file_path=PosixPath('/Users/jm/temp/caravan/Caravan Historical Data/2023/1.23/0_claim_raw_v1-1/YouTube_CaravanAffiliates_M_20230101_claim_raw_v1-1.csv.gz'), file_dir='/Users/jm/temp/caravan/Caravan Historical Data/2023/1.23/0_claim_raw_v1-1', file_name='YouTube_CaravanAffiliates_M_20230101_claim_raw_v1-1.csv.gz', file_name_without_extension='YouTube_CaravanAffiliates_M_20230101_claim_raw_v1-1', content_owner='CaravanAffiliates', file_date_key=20230101, file_date=datetime.date(2023, 1, 1), file_month_end_date=datetime.date(2023, 1, 31), report_date_key=20230131, file_version='v1-1', table_name='claim_raw', file_size_in_bytes=32868194, file_size='31.35 MB'), CsvFileInfo(file_path=PosixPath('/Users/jm/temp/caravan/Caravan Historical Data/2023/1.23/0_claim_raw_v1-1/YouTube_CaravanInc_M_20230101_claim_raw_v1-1.csv.gz'), file_dir='/Users/jm/temp/caravan/Caravan Historical Data/2023/1.23/0_claim_raw_v1-1', file_name='YouTube_CaravanInc_M_20230101_claim_raw_v1-1.csv.gz', file_name_without_extension='YouTube_CaravanInc_M_20230101_claim_raw_v1-1', content_owner='CaravanInc', file_date_key=20230101, file_date=datetime.date(2023, 1, 1), file_month_end_date=datetime.date(2023, 1, 31), report_date_key=20230131, file_version='v1-1', table_name='claim_raw', file_size_in_bytes=725795, file_size='708.78 KB'), CsvFileInfo(file_path=PosixPath('/Users/jm/temp/caravan/Caravan Historical Data/2023/1.23/0_claim_raw_v1-1/YouTube_kcrw+user_M_20230101_claim_raw_v1-1.csv.gz'), file_dir='/Users/jm/temp/caravan/Caravan Historical Data/2023/1.23/0_claim_raw_v1-1', file_name='YouTube_kcrw+user_M_20230101_claim_raw_v1-1.csv.gz', file_name_without_extension='YouTube_kcrw+user_M_20230101_claim_raw_v1-1', content_owner='kcrw+user', file_date_key=20230101, file_date=datetime.date(2023, 1, 1), file_month_end_date=datetime.date(2023, 1, 31), report_date_key=20230131, file_version='v1-1', table_name='claim_raw', file_size_in_bytes=42563, file_size='41.57 KB'), CsvFileInfo(file_path=PosixPath('/Users/jm/temp/caravan/Caravan Historical Data/2023/1.23/0_claim_raw_adj_v1-1/YouTube_CaravanAffiliates_M_20230101_ADJ_claim_raw_v1-1.csv.gz'), file_dir='/Users/jm/temp/caravan/Caravan Historical Data/2023/1.23/0_claim_raw_adj_v1-1', file_name='YouTube_CaravanAffiliates_M_20230101_ADJ_claim_raw_v1-1.csv.gz', file_name_without_extension='YouTube_CaravanAffiliates_M_20230101_ADJ_claim_raw_v1-1', content_owner='CaravanAffiliates', file_date_key=20230101, file_date=datetime.date(2023, 1, 1), file_month_end_date=datetime.date(2023, 1, 31), report_date_key=20230131, file_version='v1-1', table_name='adj_claim_raw', file_size_in_bytes=81293, file_size='79.39 KB'), CsvFileInfo(file_path=PosixPath('/Users/jm/temp/caravan/Caravan Historical Data/2023/5.23/0_claim_raw_v1-1/YouTube_CaravanAffiliates_M_20230501_claim_raw_v1-1.csv.gz'), file_dir='/Users/jm/temp/caravan/Caravan Historical Data/2023/5.23/0_claim_raw_v1-1', file_name='YouTube_CaravanAffiliates_M_20230501_claim_raw_v1-1.csv.gz', file_name_without_extension='YouTube_CaravanAffiliates_M_20230501_claim_raw_v1-1', content_owner='CaravanAffiliates', file_date_key=20230501, file_date=datetime.date(2023, 5, 1), file_month_end_date=datetime.date(2023, 5, 31), report_date_key=20230531, file_version='v1-1', table_name='claim_raw', file_size_in_bytes=31591650, file_size='30.13 MB'), CsvFileInfo(file_path=PosixPath('/Users/jm/temp/caravan/Caravan Historical Data/2023/5.23/0_claim_raw_v1-1/YouTube_CaravanInc_M_20230501_claim_raw_v1-1.csv.gz'), file_dir='/Users/jm/temp/caravan/Caravan Historical Data/2023/5.23/0_claim_raw_v1-1', file_name='YouTube_CaravanInc_M_20230501_claim_raw_v1-1.csv.gz', file_name_without_extension='YouTube_CaravanInc_M_20230501_claim_raw_v1-1', content_owner='CaravanInc', file_date_key=20230501, file_date=datetime.date(2023, 5, 1), file_month_end_date=datetime.date(2023, 5, 31), report_date_key=20230531, file_version='v1-1', table_name='claim_raw', file_size_in_bytes=536691, file_size='524.11 KB'), CsvFileInfo(file_path=PosixPath('/Users/jm/temp/caravan/Caravan Historical Data/2023/5.23/0_claim_raw_v1-1/YouTube_kcrw+user_M_20230501_claim_raw_v1-1.csv.gz'), file_dir='/Users/jm/temp/caravan/Caravan Historical Data/2023/5.23/0_claim_raw_v1-1', file_name='YouTube_kcrw+user_M_20230501_claim_raw_v1-1.csv.gz', file_name_without_extension='YouTube_kcrw+user_M_20230501_claim_raw_v1-1', content_owner='kcrw+user', file_date_key=20230501, file_date=datetime.date(2023, 5, 1), file_month_end_date=datetime.date(2023, 5, 31), report_date_key=20230531, file_version='v1-1', table_name='claim_raw', file_size_in_bytes=50287, file_size='49.11 KB'), CsvFileInfo(file_path=PosixPath('/Users/jm/temp/caravan/Caravan Historical Data/2023/5.23/0_claim_raw_adj_v1-1/YouTube_CaravanAffiliates_M_20230501_ADJ_claim_raw_v1-1.csv.gz'), file_dir='/Users/jm/temp/caravan/Caravan Historical Data/2023/5.23/0_claim_raw_adj_v1-1', file_name='YouTube_CaravanAffiliates_M_20230501_ADJ_claim_raw_v1-1.csv.gz', file_name_without_extension='YouTube_CaravanAffiliates_M_20230501_ADJ_claim_raw_v1-1', content_owner='CaravanAffiliates', file_date_key=20230501, file_date=datetime.date(2023, 5, 1), file_month_end_date=datetime.date(2023, 5, 31), report_date_key=20230531, file_version='v1-1', table_name='adj_claim_raw', file_size_in_bytes=26100, file_size='25.49 KB'), CsvFileInfo(file_path=PosixPath('/Users/jm/temp/caravan/Caravan Historical Data/2023/4.23/0_claim_raw_v1-1/YouTube_kcrw+user_M_20230401_claim_raw_v1-1.csv.gz'), file_dir='/Users/jm/temp/caravan/Caravan Historical Data/2023/4.23/0_claim_raw_v1-1', file_name='YouTube_kcrw+user_M_20230401_claim_raw_v1-1.csv.gz', file_name_without_extension='YouTube_kcrw+user_M_20230401_claim_raw_v1-1', content_owner='kcrw+user', file_date_key=20230401, file_date=datetime.date(2023, 4, 1), file_month_end_date=datetime.date(2023, 4, 30), report_date_key=20230430, file_version='v1-1', table_name='claim_raw', file_size_in_bytes=48582, file_size='47.44 KB'), CsvFileInfo(file_path=PosixPath('/Users/jm/temp/caravan/Caravan Historical Data/2023/4.23/0_claim_raw_v1-1/YouTube_CaravanInc_M_20230401_claim_raw_v1-1.csv.gz'), file_dir='/Users/jm/temp/caravan/Caravan Historical Data/2023/4.23/0_claim_raw_v1-1', file_name='YouTube_CaravanInc_M_20230401_claim_raw_v1-1.csv.gz', file_name_without_extension='YouTube_CaravanInc_M_20230401_claim_raw_v1-1', content_owner='CaravanInc', file_date_key=20230401, file_date=datetime.date(2023, 4, 1), file_month_end_date=datetime.date(2023, 4, 30), report_date_key=20230430, file_version='v1-1', table_name='claim_raw', file_size_in_bytes=603689, file_size='589.54 KB'), CsvFileInfo(file_path=PosixPath('/Users/jm/temp/caravan/Caravan Historical Data/2023/4.23/0_claim_raw_v1-1/YouTube_CaravanAffiliates_M_20230401_claim_raw_v1-1.csv.gz'), file_dir='/Users/jm/temp/caravan/Caravan Historical Data/2023/4.23/0_claim_raw_v1-1', file_name='YouTube_CaravanAffiliates_M_20230401_claim_raw_v1-1.csv.gz', file_name_without_extension='YouTube_CaravanAffiliates_M_20230401_claim_raw_v1-1', content_owner='CaravanAffiliates', file_date_key=20230401, file_date=datetime.date(2023, 4, 1), file_month_end_date=datetime.date(2023, 4, 30), report_date_key=20230430, file_version='v1-1', table_name='claim_raw', file_size_in_bytes=30982861, file_size='29.55 MB'), CsvFileInfo(file_path=PosixPath('/Users/jm/temp/caravan/Caravan Historical Data/2023/4.23/0_claim_raw_adj_v1-1/YouTube_kcrw+user_M_20230401_ADJ_claim_raw_v1-1.csv.gz'), file_dir='/Users/jm/temp/caravan/Caravan Historical Data/2023/4.23/0_claim_raw_adj_v1-1', file_name='YouTube_kcrw+user_M_20230401_ADJ_claim_raw_v1-1.csv.gz', file_name_without_extension='YouTube_kcrw+user_M_20230401_ADJ_claim_raw_v1-1', content_owner='kcrw+user', file_date_key=20230401, file_date=datetime.date(2023, 4, 1), file_month_end_date=datetime.date(2023, 4, 30), report_date_key=20230430, file_version='v1-1', table_name='adj_claim_raw', file_size_in_bytes=809, file_size='809.00 B'), CsvFileInfo(file_path=PosixPath('/Users/jm/temp/caravan/Caravan Historical Data/2023/4.23/0_claim_raw_adj_v1-1/YouTube_CaravanAffiliates_M_20230401_ADJ_claim_raw_v1-1.csv.gz'), file_dir='/Users/jm/temp/caravan/Caravan Historical Data/2023/4.23/0_claim_raw_adj_v1-1', file_name='YouTube_CaravanAffiliates_M_20230401_ADJ_claim_raw_v1-1.csv.gz', file_name_without_extension='YouTube_CaravanAffiliates_M_20230401_ADJ_claim_raw_v1-1', content_owner='CaravanAffiliates', file_date_key=20230401, file_date=datetime.date(2023, 4, 1), file_month_end_date=datetime.date(2023, 4, 30), report_date_key=20230430, file_version='v1-1', table_name='adj_claim_raw', file_size_in_bytes=20300, file_size='19.82 KB'), CsvFileInfo(file_path=PosixPath('/Users/jm/temp/caravan/Caravan Historical Data/2023/3.23/0_claim_raw_v1-1/YouTube_CaravanInc_M_20230301_claim_raw_v1-1.csv.gz'), file_dir='/Users/jm/temp/caravan/Caravan Historical Data/2023/3.23/0_claim_raw_v1-1', file_name='YouTube_CaravanInc_M_20230301_claim_raw_v1-1.csv.gz', file_name_without_extension='YouTube_CaravanInc_M_20230301_claim_raw_v1-1', content_owner='CaravanInc', file_date_key=20230301, file_date=datetime.date(2023, 3, 1), file_month_end_date=datetime.date(2023, 3, 31), report_date_key=20230331, file_version='v1-1', table_name='claim_raw', file_size_in_bytes=699346, file_size='682.96 KB'), CsvFileInfo(file_path=PosixPath('/Users/jm/temp/caravan/Caravan Historical Data/2023/3.23/0_claim_raw_v1-1/YouTube_kcrw+user_M_20230301_claim_raw_v1-1.csv.gz'), file_dir='/Users/jm/temp/caravan/Caravan Historical Data/2023/3.23/0_claim_raw_v1-1', file_name='YouTube_kcrw+user_M_20230301_claim_raw_v1-1.csv.gz', file_name_without_extension='YouTube_kcrw+user_M_20230301_claim_raw_v1-1', content_owner='kcrw+user', file_date_key=20230301, file_date=datetime.date(2023, 3, 1), file_month_end_date=datetime.date(2023, 3, 31), report_date_key=20230331, file_version='v1-1', table_name='claim_raw', file_size_in_bytes=44686, file_size='43.64 KB'), CsvFileInfo(file_path=PosixPath('/Users/jm/temp/caravan/Caravan Historical Data/2023/3.23/0_claim_raw_v1-1/YouTube_CaravanAffiliates_M_20230301_claim_raw_v1-1.csv.gz'), file_dir='/Users/jm/temp/caravan/Caravan Historical Data/2023/3.23/0_claim_raw_v1-1', file_name='YouTube_CaravanAffiliates_M_20230301_claim_raw_v1-1.csv.gz', file_name_without_extension='YouTube_CaravanAffiliates_M_20230301_claim_raw_v1-1', content_owner='CaravanAffiliates', file_date_key=20230301, file_date=datetime.date(2023, 3, 1), file_month_end_date=datetime.date(2023, 3, 31), report_date_key=20230331, file_version='v1-1', table_name='claim_raw', file_size_in_bytes=33061977, file_size='31.53 MB'), CsvFileInfo(file_path=PosixPath('/Users/jm/temp/caravan/Caravan Historical Data/2023/3.23/0_claim_raw_adj_v1-1/YouTube_CaravanAffiliates_M_20230301_ADJ_claim_raw_v1-1.csv.gz'), file_dir='/Users/jm/temp/caravan/Caravan Historical Data/2023/3.23/0_claim_raw_adj_v1-1', file_name='YouTube_CaravanAffiliates_M_20230301_ADJ_claim_raw_v1-1.csv.gz', file_name_without_extension='YouTube_CaravanAffiliates_M_20230301_ADJ_claim_raw_v1-1', content_owner='CaravanAffiliates', file_date_key=20230301, file_date=datetime.date(2023, 3, 1), file_month_end_date=datetime.date(2023, 3, 31), report_date_key=20230331, file_version='v1-1', table_name='adj_claim_raw', file_size_in_bytes=17718, file_size='17.30 KB'), CsvFileInfo(file_path=PosixPath('/Users/jm/temp/caravan/Caravan Historical Data/2023/2.23/0_claim_raw_v1-1/YouTube_CaravanAffiliates_M_20230201_claim_raw_v1-1.csv.gz'), file_dir='/Users/jm/temp/caravan/Caravan Historical Data/2023/2.23/0_claim_raw_v1-1', file_name='YouTube_CaravanAffiliates_M_20230201_claim_raw_v1-1.csv.gz', file_name_without_extension='YouTube_CaravanAffiliates_M_20230201_claim_raw_v1-1', content_owner='CaravanAffiliates', file_date_key=20230201, file_date=datetime.date(2023, 2, 1), file_month_end_date=datetime.date(2023, 2, 28), report_date_key=20230228, file_version='v1-1', table_name='claim_raw', file_size_in_bytes=30598001, file_size='29.18 MB'), CsvFileInfo(file_path=PosixPath('/Users/jm/temp/caravan/Caravan Historical Data/2023/2.23/0_claim_raw_v1-1/YouTube_kcrw+user_M_20230201_claim_raw_v1-1.csv.gz'), file_dir='/Users/jm/temp/caravan/Caravan Historical Data/2023/2.23/0_claim_raw_v1-1', file_name='YouTube_kcrw+user_M_20230201_claim_raw_v1-1.csv.gz', file_name_without_extension='YouTube_kcrw+user_M_20230201_claim_raw_v1-1', content_owner='kcrw+user', file_date_key=20230201, file_date=datetime.date(2023, 2, 1), file_month_end_date=datetime.date(2023, 2, 28), report_date_key=20230228, file_version='v1-1', table_name='claim_raw', file_size_in_bytes=36815, file_size='35.95 KB'), CsvFileInfo(file_path=PosixPath('/Users/jm/temp/caravan/Caravan Historical Data/2023/2.23/0_claim_raw_v1-1/YouTube_CaravanInc_M_20230201_claim_raw_v1-1.csv.gz'), file_dir='/Users/jm/temp/caravan/Caravan Historical Data/2023/2.23/0_claim_raw_v1-1', file_name='YouTube_CaravanInc_M_20230201_claim_raw_v1-1.csv.gz', file_name_without_extension='YouTube_CaravanInc_M_20230201_claim_raw_v1-1', content_owner='CaravanInc', file_date_key=20230201, file_date=datetime.date(2023, 2, 1), file_month_end_date=datetime.date(2023, 2, 28), report_date_key=20230228, file_version='v1-1', table_name='claim_raw', file_size_in_bytes=765537, file_size='747.59 KB'), CsvFileInfo(file_path=PosixPath('/Users/jm/temp/caravan/Caravan Historical Data/2023/2.23/0_claim_raw_adj_v1-1/YouTube_CaravanAffiliates_M_20230201_ADJ_claim_raw_v1-1.csv.gz'), file_dir='/Users/jm/temp/caravan/Caravan Historical Data/2023/2.23/0_claim_raw_adj_v1-1', file_name='YouTube_CaravanAffiliates_M_20230201_ADJ_claim_raw_v1-1.csv.gz', file_name_without_extension='YouTube_CaravanAffiliates_M_20230201_ADJ_claim_raw_v1-1', content_owner='CaravanAffiliates', file_date_key=20230201, file_date=datetime.date(2023, 2, 1), file_month_end_date=datetime.date(2023, 2, 28), report_date_key=20230228, file_version='v1-1', table_name='adj_claim_raw', file_size_in_bytes=17645, file_size='17.23 KB'), CsvFileInfo(file_path=PosixPath('/Users/jm/temp/caravan/Caravan Historical Data/2023/6.23/0_claim_raw_v1-1/YouTube_CaravanAffiliates_M_20230601_claim_raw_v1-1.csv.gz'), file_dir='/Users/jm/temp/caravan/Caravan Historical Data/2023/6.23/0_claim_raw_v1-1', file_name='YouTube_CaravanAffiliates_M_20230601_claim_raw_v1-1.csv.gz', file_name_without_extension='YouTube_CaravanAffiliates_M_20230601_claim_raw_v1-1', content_owner='CaravanAffiliates', file_date_key=20230601, file_date=datetime.date(2023, 6, 1), file_month_end_date=datetime.date(2023, 6, 30), report_date_key=20230630, file_version='v1-1', table_name='claim_raw', file_size_in_bytes=30903652, file_size='29.47 MB'), CsvFileInfo(file_path=PosixPath('/Users/jm/temp/caravan/Caravan Historical Data/2023/6.23/0_claim_raw_v1-1/YouTube_kcrw+user_M_20230601_claim_raw_v1-1.csv.gz'), file_dir='/Users/jm/temp/caravan/Caravan Historical Data/2023/6.23/0_claim_raw_v1-1', file_name='YouTube_kcrw+user_M_20230601_claim_raw_v1-1.csv.gz', file_name_without_extension='YouTube_kcrw+user_M_20230601_claim_raw_v1-1', content_owner='kcrw+user', file_date_key=20230601, file_date=datetime.date(2023, 6, 1), file_month_end_date=datetime.date(2023, 6, 30), report_date_key=20230630, file_version='v1-1', table_name='claim_raw', file_size_in_bytes=69972, file_size='68.33 KB'), CsvFileInfo(file_path=PosixPath('/Users/jm/temp/caravan/Caravan Historical Data/2023/6.23/0_claim_raw_v1-1/YouTube_CaravanInc_M_20230601_claim_raw_v1-1.csv.gz'), file_dir='/Users/jm/temp/caravan/Caravan Historical Data/2023/6.23/0_claim_raw_v1-1', file_name='YouTube_CaravanInc_M_20230601_claim_raw_v1-1.csv.gz', file_name_without_extension='YouTube_CaravanInc_M_20230601_claim_raw_v1-1', content_owner='CaravanInc', file_date_key=20230601, file_date=datetime.date(2023, 6, 1), file_month_end_date=datetime.date(2023, 6, 30), report_date_key=20230630, file_version='v1-1', table_name='claim_raw', file_size_in_bytes=545684, file_size='532.89 KB'), CsvFileInfo(file_path=PosixPath('/Users/jm/temp/caravan/Caravan Historical Data/2023/6.23/0_claim_raw_adj_v1-1/YouTube_CaravanAffiliates_M_20230601_ADJ_claim_raw_v1-1.csv.gz'), file_dir='/Users/jm/temp/caravan/Caravan Historical Data/2023/6.23/0_claim_raw_adj_v1-1', file_name='YouTube_CaravanAffiliates_M_20230601_ADJ_claim_raw_v1-1.csv.gz', file_name_without_extension='YouTube_CaravanAffiliates_M_20230601_ADJ_claim_raw_v1-1', content_owner='CaravanAffiliates', file_date_key=20230601, file_date=datetime.date(2023, 6, 1), file_month_end_date=datetime.date(2023, 6, 30), report_date_key=20230630, file_version='v1-1', table_name='adj_claim_raw', file_size_in_bytes=36033, file_size='35.19 KB')]\n",
      "<class 'pandas.core.frame.DataFrame'>\n",
      "RangeIndex: 14905073 entries, 0 to 14905072\n",
      "Data columns (total 28 columns):\n",
      " #   Column                                              Dtype         \n",
      "---  ------                                              -----         \n",
      " 0   adjustment_type                                     object        \n",
      " 1   day                                                 int64         \n",
      " 2   country                                             object        \n",
      " 3   video_id                                            object        \n",
      " 4   channel_id                                          object        \n",
      " 5   asset_id                                            object        \n",
      " 6   asset_channel_id                                    object        \n",
      " 7   asset_type                                          object        \n",
      " 8   custom_id                                           object        \n",
      " 9   content_type                                        object        \n",
      " 10  policy                                              object        \n",
      " 11  claim_type                                          object        \n",
      " 12  claim_origin                                        object        \n",
      " 13  owned_views                                         int64         \n",
      " 14  youtube_revenue_split__auction                      float64       \n",
      " 15  youtube_revenue_split__reserved                     float64       \n",
      " 16  youtube_revenue_split__partner_sold_youtube_served  float64       \n",
      " 17  youtube_revenue_split__partner_sold_partner_served  float64       \n",
      " 18  youtube_revenue_split                               float64       \n",
      " 19  partner_revenue__auction                            float64       \n",
      " 20  partner_revenue__reserved                           float64       \n",
      " 21  partner_revenue__partner_sold_youtube_served        float64       \n",
      " 22  partner_revenue__partner_sold_partner_served        float64       \n",
      " 23  partner_revenue                                     float64       \n",
      " 24  _file_name                                          object        \n",
      " 25  _content_owner                                      object        \n",
      " 26  _report_date_key                                    int64         \n",
      " 27  _file_load_date                                     datetime64[ns]\n",
      "dtypes: datetime64[ns](1), float64(10), int64(3), object(14)\n",
      "memory usage: 3.1+ GB\n"
     ]
    }
   ],
   "source": [
    "from pathlib import Path\n",
    "from typing import List\n",
    "\n",
    "from dotenv import load_dotenv\n",
    "import pandas as pd\n",
    "from datawagon.objects.csv_file_info import CsvFileInfo\n",
    "from datawagon.objects.csv_loader import CSVLoader\n",
    "from datawagon.objects.file_utils import FileUtils\n",
    "\n",
    "# can this notebook be moved to the notebook venv?\n",
    "\n",
    "load_dotenv(verbose=True)\n",
    "\n",
    "file_utils = FileUtils()\n",
    "source_path = Path('/Users/jm/temp/caravan/Caravan Historical Data/2023')\n",
    "\n",
    "# remove this from class and use scan and filter the group by name instead\n",
    "csv_files = file_utils.scan_for_csv_files_with_name(source_path, 'claim_raw_')\n",
    "\n",
    "csv_file_infos = [\n",
    "    CsvFileInfo.build_data_item(csv_file) for csv_file in csv_files\n",
    "]\n",
    "\n",
    "print(csv_file_infos)\n",
    "\n",
    "files: List[pd.DataFrame] =[]\n",
    "\n",
    "for csv_info in csv_file_infos:\n",
    "    loader = CSVLoader(csv_info)\n",
    "    files.append(loader.load_data())\n",
    "\n",
    "one_df = pd.concat(files, ignore_index=True)\n",
    "\n",
    "one_df.info()\n"
   ]
  },
  {
   "cell_type": "markdown",
   "metadata": {},
   "source": [
    "### Pyspark\n",
    "\n"
   ]
  },
  {
   "cell_type": "code",
   "execution_count": 2,
   "metadata": {},
   "outputs": [
    {
     "name": "stderr",
     "output_type": "stream",
     "text": [
      "                                                                                \r"
     ]
    },
    {
     "data": {
      "text/plain": [
       "0.2444156941198514"
      ]
     },
     "execution_count": 2,
     "metadata": {},
     "output_type": "execute_result"
    }
   ],
   "source": [
    "from pyspark.sql.types import (\n",
    "    StringType,\n",
    "    IntegerType,\n",
    "    DateType,\n",
    "    DecimalType,\n",
    ")\n",
    "from pyspark.sql import SparkSession, DataFrame\n",
    "from pyspark.sql.functions import current_date, lit\n",
    "\n",
    "# import pyspark.pandas as ps\n",
    "from functools import reduce\n",
    "from pathlib import Path\n",
    "from typing import List\n",
    "\n",
    "from dotenv import load_dotenv\n",
    "from datawagon.objects.csv_file_info import CsvFileInfo\n",
    "from datawagon.objects.file_utils import FileUtils\n",
    "\n",
    "load_dotenv(verbose=True)\n",
    "\n",
    "file_utils = FileUtils()\n",
    "source_path = Path(\"/Users/jm/temp/caravan/Caravan Historical Data/2023\")\n",
    "\n",
    "\n",
    "def unionAll(*dfs) -> DataFrame:\n",
    "    return reduce(DataFrame.union, dfs)\n",
    "\n",
    "\n",
    "# remove this from class and use scan and filter the group by name instead\n",
    "csv_files = file_utils.scan_for_csv_files_with_name(source_path, \"claim_raw_v1\")\n",
    "\n",
    "csv_file_infos = [CsvFileInfo.build_data_item(csv_file) for csv_file in csv_files]\n",
    "\n",
    "spark  = SparkSession.builder.master(\"local[*]\").getOrCreate()\n",
    "\n",
    "files: List[DataFrame] = []\n",
    "\n",
    "for csv_info in csv_file_infos:\n",
    "    # df = ps.read_csv(str(csv_info.file_path), header=True)\n",
    "    df = spark.read.csv(str(csv_info.file_path), header=True, inferSchema=True, sep=\",\")\n",
    "\n",
    "    additional_columns = {\n",
    "        \"_file_name\": lit(csv_info.file_name_without_extension),\n",
    "        \"_content_owner\": lit(csv_info.content_owner),\n",
    "        \"_report_date_key\": lit(csv_info.report_date_key),\n",
    "        \"_file_load_date\": current_date(),\n",
    "    }\n",
    "\n",
    "    df = df.withColumns(additional_columns)\n",
    "    files.append(df)\n",
    "\n",
    "spark_df = unionAll(*files)\n",
    "\n",
    "cols = spark_df.columns\n",
    "\n",
    "new_columns = [\n",
    "    col.replace(\" \", \"_\")\n",
    "    .replace(\".\", \"_\")\n",
    "    .replace(\"-\", \"_\")\n",
    "    .replace(\"/\", \"_\")\n",
    "    .replace(\"(\", \"_\")\n",
    "    .replace(\")\", \"\")\n",
    "    .replace(\"?\", \"\")\n",
    "    .replace(\":\", \"\")\n",
    "    .lower()\n",
    "    for col in cols\n",
    "]\n",
    "\n",
    "spark_df = spark_df.toDF(*new_columns)\n",
    "# schema = StructType()\n",
    "\n",
    "float_cols = [\"revenue\"]\n",
    "int_cols = [\"view\", \"day\", \"date_key\", \"sec\"]\n",
    "date_cols = [\"date\"]\n",
    "\n",
    "for col in spark_df.columns:\n",
    "    if any(name in col for name in float_cols):\n",
    "        # floats will be changed to numeric on load (pandas doesn't support the type)\n",
    "        spark_df = spark_df.withColumn(col, spark_df[col].cast(DecimalType(19, 7)))\n",
    "    elif any(name in col for name in int_cols):\n",
    "        spark_df = spark_df.withColumn(col, spark_df[col].cast(IntegerType()))\n",
    "    elif any(name in col for name in date_cols):\n",
    "        spark_df = spark_df.withColumn(col, spark_df[col].cast(DateType()))\n",
    "    else:\n",
    "        spark_df = spark_df.withColumn(col, spark_df[col].cast(StringType()))\n",
    "# print(schema)\n",
    "# spark_df = spark_df.to(schema)\n",
    "\n",
    "spark_df.corr('owned_views','partner_revenue', method=\"pearson\")\n",
    "\n",
    "# one_df = pd.concat(files, ignore_index=True)\n",
    "# spark_df = spark.read.concat(files)\n",
    "# spark_df = spark_df.repartition(1)\n",
    "# spark_df.write.mode(\"overwrite\").parquet(\"/Users/jm/temp/caravan/temp_out_file.parquet\")\n",
    "# spark_df.coalesce(1).write.parquet('/Users/jm/temp/caravan/temp_out_file.parquet')\n",
    "# spark_df.printSchema()\n",
    "# spark_df.show(5)\n",
    "# spark_df.show()\n",
    "# spark_df.count()\n",
    "# spark_df.describe().show()"
   ]
  },
  {
   "cell_type": "markdown",
   "metadata": {},
   "source": [
    "### Duck DB"
   ]
  },
  {
   "cell_type": "code",
   "execution_count": null,
   "metadata": {},
   "outputs": [],
   "source": []
  },
  {
   "cell_type": "code",
   "execution_count": null,
   "metadata": {},
   "outputs": [],
   "source": []
  }
 ],
 "metadata": {
  "kernelspec": {
   "display_name": "datawagon-UJhKYycn-py3.11",
   "language": "python",
   "name": "python3"
  },
  "language_info": {
   "codemirror_mode": {
    "name": "ipython",
    "version": 3
   },
   "file_extension": ".py",
   "mimetype": "text/x-python",
   "name": "python",
   "nbconvert_exporter": "python",
   "pygments_lexer": "ipython3",
   "version": "3.11.4"
  },
  "orig_nbformat": 4
 },
 "nbformat": 4,
 "nbformat_minor": 2
}
