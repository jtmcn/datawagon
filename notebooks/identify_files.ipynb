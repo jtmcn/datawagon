{
 "cells": [
  {
   "cell_type": "code",
   "execution_count": 1,
   "metadata": {},
   "outputs": [
    {
     "name": "stdout",
     "output_type": "stream",
     "text": [
      "table_name='claim_raw' append_or_replace='append' files=[CsvFileInfoOverride(file_path=PosixPath('/Users/jm/temp/caravan/Caravan Historical Data/2023/1.23/0_claim_raw_v1-1/YouTube_CaravanAffiliates_M_20230101_claim_raw_v1-1.csv.gz'), file_dir='/Users/jm/temp/caravan/Caravan Historical Data/2023/1.23/0_claim_raw_v1-1', file_name='YouTube_CaravanAffiliates_M_20230101_claim_raw_v1-1.csv.gz', file_name_without_extension='YouTube_CaravanAffiliates_M_20230101_claim_raw_v1-1', file_version='v1-1', table_name='claim_raw', file_size_in_bytes=32868194, file_size='31.35 MB'), CsvFileInfoOverride(file_path=PosixPath('/Users/jm/temp/caravan/Caravan Historical Data/2023/1.23/0_claim_raw_v1-1/YouTube_CaravanInc_M_20230101_claim_raw_v1-1.csv.gz'), file_dir='/Users/jm/temp/caravan/Caravan Historical Data/2023/1.23/0_claim_raw_v1-1', file_name='YouTube_CaravanInc_M_20230101_claim_raw_v1-1.csv.gz', file_name_without_extension='YouTube_CaravanInc_M_20230101_claim_raw_v1-1', file_version='v1-1', table_name='claim_raw', file_size_in_bytes=725795, file_size='708.78 KB'), CsvFileInfoOverride(file_path=PosixPath('/Users/jm/temp/caravan/Caravan Historical Data/2023/1.23/0_claim_raw_v1-1/YouTube_kcrw+user_M_20230101_claim_raw_v1-1.csv.gz'), file_dir='/Users/jm/temp/caravan/Caravan Historical Data/2023/1.23/0_claim_raw_v1-1', file_name='YouTube_kcrw+user_M_20230101_claim_raw_v1-1.csv.gz', file_name_without_extension='YouTube_kcrw+user_M_20230101_claim_raw_v1-1', file_version='v1-1', table_name='claim_raw', file_size_in_bytes=42563, file_size='41.57 KB'), CsvFileInfoOverride(file_path=PosixPath('/Users/jm/temp/caravan/Caravan Historical Data/2023/1.23/0_claim_raw_adj_v1-1/YouTube_CaravanAffiliates_M_20230101_ADJ_claim_raw_v1-1.csv.gz'), file_dir='/Users/jm/temp/caravan/Caravan Historical Data/2023/1.23/0_claim_raw_adj_v1-1', file_name='YouTube_CaravanAffiliates_M_20230101_ADJ_claim_raw_v1-1.csv.gz', file_name_without_extension='YouTube_CaravanAffiliates_M_20230101_ADJ_claim_raw_v1-1', file_version='v1-1', table_name='claim_raw', file_size_in_bytes=81293, file_size='79.39 KB'), CsvFileInfoOverride(file_path=PosixPath('/Users/jm/temp/caravan/Caravan Historical Data/2023/5.23/0_claim_raw_v1-1/YouTube_CaravanAffiliates_M_20230501_claim_raw_v1-1.csv.gz'), file_dir='/Users/jm/temp/caravan/Caravan Historical Data/2023/5.23/0_claim_raw_v1-1', file_name='YouTube_CaravanAffiliates_M_20230501_claim_raw_v1-1.csv.gz', file_name_without_extension='YouTube_CaravanAffiliates_M_20230501_claim_raw_v1-1', file_version='v1-1', table_name='claim_raw', file_size_in_bytes=31591650, file_size='30.13 MB'), CsvFileInfoOverride(file_path=PosixPath('/Users/jm/temp/caravan/Caravan Historical Data/2023/5.23/0_claim_raw_v1-1/YouTube_CaravanInc_M_20230501_claim_raw_v1-1.csv.gz'), file_dir='/Users/jm/temp/caravan/Caravan Historical Data/2023/5.23/0_claim_raw_v1-1', file_name='YouTube_CaravanInc_M_20230501_claim_raw_v1-1.csv.gz', file_name_without_extension='YouTube_CaravanInc_M_20230501_claim_raw_v1-1', file_version='v1-1', table_name='claim_raw', file_size_in_bytes=536691, file_size='524.11 KB'), CsvFileInfoOverride(file_path=PosixPath('/Users/jm/temp/caravan/Caravan Historical Data/2023/5.23/0_claim_raw_v1-1/YouTube_kcrw+user_M_20230501_claim_raw_v1-1.csv.gz'), file_dir='/Users/jm/temp/caravan/Caravan Historical Data/2023/5.23/0_claim_raw_v1-1', file_name='YouTube_kcrw+user_M_20230501_claim_raw_v1-1.csv.gz', file_name_without_extension='YouTube_kcrw+user_M_20230501_claim_raw_v1-1', file_version='v1-1', table_name='claim_raw', file_size_in_bytes=50287, file_size='49.11 KB'), CsvFileInfoOverride(file_path=PosixPath('/Users/jm/temp/caravan/Caravan Historical Data/2023/5.23/0_claim_raw_adj_v1-1/YouTube_CaravanAffiliates_M_20230501_ADJ_claim_raw_v1-1.csv.gz'), file_dir='/Users/jm/temp/caravan/Caravan Historical Data/2023/5.23/0_claim_raw_adj_v1-1', file_name='YouTube_CaravanAffiliates_M_20230501_ADJ_claim_raw_v1-1.csv.gz', file_name_without_extension='YouTube_CaravanAffiliates_M_20230501_ADJ_claim_raw_v1-1', file_version='v1-1', table_name='claim_raw', file_size_in_bytes=26100, file_size='25.49 KB'), CsvFileInfoOverride(file_path=PosixPath('/Users/jm/temp/caravan/Caravan Historical Data/2023/4.23/0_claim_raw_v1-1/YouTube_kcrw+user_M_20230401_claim_raw_v1-1.csv.gz'), file_dir='/Users/jm/temp/caravan/Caravan Historical Data/2023/4.23/0_claim_raw_v1-1', file_name='YouTube_kcrw+user_M_20230401_claim_raw_v1-1.csv.gz', file_name_without_extension='YouTube_kcrw+user_M_20230401_claim_raw_v1-1', file_version='v1-1', table_name='claim_raw', file_size_in_bytes=48582, file_size='47.44 KB'), CsvFileInfoOverride(file_path=PosixPath('/Users/jm/temp/caravan/Caravan Historical Data/2023/4.23/0_claim_raw_v1-1/YouTube_CaravanInc_M_20230401_claim_raw_v1-1.csv.gz'), file_dir='/Users/jm/temp/caravan/Caravan Historical Data/2023/4.23/0_claim_raw_v1-1', file_name='YouTube_CaravanInc_M_20230401_claim_raw_v1-1.csv.gz', file_name_without_extension='YouTube_CaravanInc_M_20230401_claim_raw_v1-1', file_version='v1-1', table_name='claim_raw', file_size_in_bytes=603689, file_size='589.54 KB'), CsvFileInfoOverride(file_path=PosixPath('/Users/jm/temp/caravan/Caravan Historical Data/2023/4.23/0_claim_raw_v1-1/YouTube_CaravanAffiliates_M_20230401_claim_raw_v1-1.csv.gz'), file_dir='/Users/jm/temp/caravan/Caravan Historical Data/2023/4.23/0_claim_raw_v1-1', file_name='YouTube_CaravanAffiliates_M_20230401_claim_raw_v1-1.csv.gz', file_name_without_extension='YouTube_CaravanAffiliates_M_20230401_claim_raw_v1-1', file_version='v1-1', table_name='claim_raw', file_size_in_bytes=30982861, file_size='29.55 MB'), CsvFileInfoOverride(file_path=PosixPath('/Users/jm/temp/caravan/Caravan Historical Data/2023/4.23/0_claim_raw_adj_v1-1/YouTube_kcrw+user_M_20230401_ADJ_claim_raw_v1-1.csv.gz'), file_dir='/Users/jm/temp/caravan/Caravan Historical Data/2023/4.23/0_claim_raw_adj_v1-1', file_name='YouTube_kcrw+user_M_20230401_ADJ_claim_raw_v1-1.csv.gz', file_name_without_extension='YouTube_kcrw+user_M_20230401_ADJ_claim_raw_v1-1', file_version='v1-1', table_name='claim_raw', file_size_in_bytes=809, file_size='809.00 B'), CsvFileInfoOverride(file_path=PosixPath('/Users/jm/temp/caravan/Caravan Historical Data/2023/4.23/0_claim_raw_adj_v1-1/YouTube_CaravanAffiliates_M_20230401_ADJ_claim_raw_v1-1.csv.gz'), file_dir='/Users/jm/temp/caravan/Caravan Historical Data/2023/4.23/0_claim_raw_adj_v1-1', file_name='YouTube_CaravanAffiliates_M_20230401_ADJ_claim_raw_v1-1.csv.gz', file_name_without_extension='YouTube_CaravanAffiliates_M_20230401_ADJ_claim_raw_v1-1', file_version='v1-1', table_name='claim_raw', file_size_in_bytes=20300, file_size='19.82 KB'), CsvFileInfoOverride(file_path=PosixPath('/Users/jm/temp/caravan/Caravan Historical Data/2023/3.23/0_claim_raw_v1-1/YouTube_CaravanInc_M_20230301_claim_raw_v1-1.csv.gz'), file_dir='/Users/jm/temp/caravan/Caravan Historical Data/2023/3.23/0_claim_raw_v1-1', file_name='YouTube_CaravanInc_M_20230301_claim_raw_v1-1.csv.gz', file_name_without_extension='YouTube_CaravanInc_M_20230301_claim_raw_v1-1', file_version='v1-1', table_name='claim_raw', file_size_in_bytes=699346, file_size='682.96 KB'), CsvFileInfoOverride(file_path=PosixPath('/Users/jm/temp/caravan/Caravan Historical Data/2023/3.23/0_claim_raw_v1-1/YouTube_kcrw+user_M_20230301_claim_raw_v1-1.csv.gz'), file_dir='/Users/jm/temp/caravan/Caravan Historical Data/2023/3.23/0_claim_raw_v1-1', file_name='YouTube_kcrw+user_M_20230301_claim_raw_v1-1.csv.gz', file_name_without_extension='YouTube_kcrw+user_M_20230301_claim_raw_v1-1', file_version='v1-1', table_name='claim_raw', file_size_in_bytes=44686, file_size='43.64 KB'), CsvFileInfoOverride(file_path=PosixPath('/Users/jm/temp/caravan/Caravan Historical Data/2023/3.23/0_claim_raw_v1-1/YouTube_CaravanAffiliates_M_20230301_claim_raw_v1-1.csv.gz'), file_dir='/Users/jm/temp/caravan/Caravan Historical Data/2023/3.23/0_claim_raw_v1-1', file_name='YouTube_CaravanAffiliates_M_20230301_claim_raw_v1-1.csv.gz', file_name_without_extension='YouTube_CaravanAffiliates_M_20230301_claim_raw_v1-1', file_version='v1-1', table_name='claim_raw', file_size_in_bytes=33061977, file_size='31.53 MB'), CsvFileInfoOverride(file_path=PosixPath('/Users/jm/temp/caravan/Caravan Historical Data/2023/3.23/0_claim_raw_adj_v1-1/YouTube_CaravanAffiliates_M_20230301_ADJ_claim_raw_v1-1.csv.gz'), file_dir='/Users/jm/temp/caravan/Caravan Historical Data/2023/3.23/0_claim_raw_adj_v1-1', file_name='YouTube_CaravanAffiliates_M_20230301_ADJ_claim_raw_v1-1.csv.gz', file_name_without_extension='YouTube_CaravanAffiliates_M_20230301_ADJ_claim_raw_v1-1', file_version='v1-1', table_name='claim_raw', file_size_in_bytes=17718, file_size='17.30 KB'), CsvFileInfoOverride(file_path=PosixPath('/Users/jm/temp/caravan/Caravan Historical Data/2023/2.23/0_claim_raw_v1-1/YouTube_CaravanAffiliates_M_20230201_claim_raw_v1-1.csv.gz'), file_dir='/Users/jm/temp/caravan/Caravan Historical Data/2023/2.23/0_claim_raw_v1-1', file_name='YouTube_CaravanAffiliates_M_20230201_claim_raw_v1-1.csv.gz', file_name_without_extension='YouTube_CaravanAffiliates_M_20230201_claim_raw_v1-1', file_version='v1-1', table_name='claim_raw', file_size_in_bytes=30598001, file_size='29.18 MB'), CsvFileInfoOverride(file_path=PosixPath('/Users/jm/temp/caravan/Caravan Historical Data/2023/2.23/0_claim_raw_v1-1/YouTube_kcrw+user_M_20230201_claim_raw_v1-1.csv.gz'), file_dir='/Users/jm/temp/caravan/Caravan Historical Data/2023/2.23/0_claim_raw_v1-1', file_name='YouTube_kcrw+user_M_20230201_claim_raw_v1-1.csv.gz', file_name_without_extension='YouTube_kcrw+user_M_20230201_claim_raw_v1-1', file_version='v1-1', table_name='claim_raw', file_size_in_bytes=36815, file_size='35.95 KB'), CsvFileInfoOverride(file_path=PosixPath('/Users/jm/temp/caravan/Caravan Historical Data/2023/2.23/0_claim_raw_v1-1/YouTube_CaravanInc_M_20230201_claim_raw_v1-1.csv.gz'), file_dir='/Users/jm/temp/caravan/Caravan Historical Data/2023/2.23/0_claim_raw_v1-1', file_name='YouTube_CaravanInc_M_20230201_claim_raw_v1-1.csv.gz', file_name_without_extension='YouTube_CaravanInc_M_20230201_claim_raw_v1-1', file_version='v1-1', table_name='claim_raw', file_size_in_bytes=765537, file_size='747.59 KB'), CsvFileInfoOverride(file_path=PosixPath('/Users/jm/temp/caravan/Caravan Historical Data/2023/2.23/0_claim_raw_adj_v1-1/YouTube_CaravanAffiliates_M_20230201_ADJ_claim_raw_v1-1.csv.gz'), file_dir='/Users/jm/temp/caravan/Caravan Historical Data/2023/2.23/0_claim_raw_adj_v1-1', file_name='YouTube_CaravanAffiliates_M_20230201_ADJ_claim_raw_v1-1.csv.gz', file_name_without_extension='YouTube_CaravanAffiliates_M_20230201_ADJ_claim_raw_v1-1', file_version='v1-1', table_name='claim_raw', file_size_in_bytes=17645, file_size='17.23 KB'), CsvFileInfoOverride(file_path=PosixPath('/Users/jm/temp/caravan/Caravan Historical Data/2023/6.23/0_claim_raw_v1-1/YouTube_CaravanAffiliates_M_20230601_claim_raw_v1-1.csv.gz'), file_dir='/Users/jm/temp/caravan/Caravan Historical Data/2023/6.23/0_claim_raw_v1-1', file_name='YouTube_CaravanAffiliates_M_20230601_claim_raw_v1-1.csv.gz', file_name_without_extension='YouTube_CaravanAffiliates_M_20230601_claim_raw_v1-1', file_version='v1-1', table_name='claim_raw', file_size_in_bytes=30903652, file_size='29.47 MB'), CsvFileInfoOverride(file_path=PosixPath('/Users/jm/temp/caravan/Caravan Historical Data/2023/6.23/0_claim_raw_v1-1/YouTube_kcrw+user_M_20230601_claim_raw_v1-1.csv.gz'), file_dir='/Users/jm/temp/caravan/Caravan Historical Data/2023/6.23/0_claim_raw_v1-1', file_name='YouTube_kcrw+user_M_20230601_claim_raw_v1-1.csv.gz', file_name_without_extension='YouTube_kcrw+user_M_20230601_claim_raw_v1-1', file_version='v1-1', table_name='claim_raw', file_size_in_bytes=69972, file_size='68.33 KB'), CsvFileInfoOverride(file_path=PosixPath('/Users/jm/temp/caravan/Caravan Historical Data/2023/6.23/0_claim_raw_v1-1/YouTube_CaravanInc_M_20230601_claim_raw_v1-1.csv.gz'), file_dir='/Users/jm/temp/caravan/Caravan Historical Data/2023/6.23/0_claim_raw_v1-1', file_name='YouTube_CaravanInc_M_20230601_claim_raw_v1-1.csv.gz', file_name_without_extension='YouTube_CaravanInc_M_20230601_claim_raw_v1-1', file_version='v1-1', table_name='claim_raw', file_size_in_bytes=545684, file_size='532.89 KB'), CsvFileInfoOverride(file_path=PosixPath('/Users/jm/temp/caravan/Caravan Historical Data/2023/6.23/0_claim_raw_adj_v1-1/YouTube_CaravanAffiliates_M_20230601_ADJ_claim_raw_v1-1.csv.gz'), file_dir='/Users/jm/temp/caravan/Caravan Historical Data/2023/6.23/0_claim_raw_adj_v1-1', file_name='YouTube_CaravanAffiliates_M_20230601_ADJ_claim_raw_v1-1.csv.gz', file_name_without_extension='YouTube_CaravanAffiliates_M_20230601_ADJ_claim_raw_v1-1', file_version='v1-1', table_name='claim_raw', file_size_in_bytes=36033, file_size='35.19 KB')]\n"
     ]
    }
   ],
   "source": [
    "import os\n",
    "from pathlib import Path\n",
    "import re\n",
    "from typing import List\n",
    "from pydantic import ValidationError\n",
    "\n",
    "import toml\n",
    "from dotenv import find_dotenv, load_dotenv\n",
    "from datawagon.objects.csv_file_info_override import CsvFileInfoOverride\n",
    "from datawagon.objects.file_utils import FileUtils\n",
    "from datawagon.objects.source_config import (\n",
    "    Source,\n",
    "    SourceConfig,\n",
    "    SourceFileAttributes,\n",
    ")\n",
    "from datawagon.objects.source_file_scanner import SourceFiles\n",
    "\n",
    "\n",
    "load_dotenv(find_dotenv(), verbose=True)\n",
    "\n",
    "\n",
    "def source_base_path() -> Path:\n",
    "    source_base_path = Path(str(os.getenv(\"DW_CSV_SOURCE_DIR\")))\n",
    "\n",
    "    if not source_base_path.exists():\n",
    "        raise ValueError(f\"Source directory does not exist: {source_base_path}\")\n",
    "    return source_base_path\n",
    "\n",
    "\n",
    "def load_config() -> SourceConfig:\n",
    "    source_config_file = toml.load(str(os.getenv(\"DW_CSV_SOURCE_TOML\")))\n",
    "\n",
    "    try:\n",
    "        valid_config = SourceConfig(**source_config_file)\n",
    "        return valid_config\n",
    "    except ValidationError as e:\n",
    "        raise ValueError(e)\n",
    "\n",
    "\n",
    "def source_file_attrs(file_path: Path, file_source: Source) -> SourceFileAttributes:\n",
    "    file_dict = {\"file_name\": file_path.name, \"file_path\": file_path}\n",
    "\n",
    "    if file_source.regex_pattern and file_source.regex_group_names:\n",
    "        r_pattern = file_source.regex_pattern\n",
    "        r_groups = file_source.regex_group_names\n",
    "\n",
    "        match = re.match(r_pattern, file_path.name)\n",
    "\n",
    "        if not match:\n",
    "            raise ValueError(f\"Invalid file name format: {file_path.name}\")\n",
    "\n",
    "        if len(r_groups) != len(match.groups()):\n",
    "            raise ValueError(\n",
    "                \"File regex config generated mismatched groups.\"\n",
    "                + f\"\\nFile name: {file_path.name}, regex: {r_pattern}, groups: {r_groups}\"\n",
    "                \"\"\n",
    "            )\n",
    "\n",
    "        for i in range(len(match.groups())):\n",
    "            file_dict[r_groups[i]] = match.group(i + 1)\n",
    "\n",
    "    return SourceFileAttributes(**file_dict)\n",
    "\n",
    "\n",
    "def available_source_files() -> List[SourceFiles]:\n",
    "    all_available_files = []\n",
    "\n",
    "    valid_config = load_config()\n",
    "\n",
    "    for file_id in valid_config.source:\n",
    "        file_source = valid_config.source[file_id]\n",
    "        if file_source.is_enabled:\n",
    "            file_list = FileUtils().scan_for_csv_files_with_name(\n",
    "                source_base_path(), file_source.file_name_base\n",
    "            )\n",
    "\n",
    "            if len(file_list) == 0:\n",
    "                print(f\"Did not find any files with name: {file_source.file_name_base}\")\n",
    "                break\n",
    "\n",
    "            table_mapper = SourceFiles(\n",
    "                table_name=file_source.destination_table,\n",
    "                append_or_replace=file_source.append_or_replace,\n",
    "            )\n",
    "\n",
    "            for file_path in file_list:\n",
    "                source_file = source_file_attrs(file_path, file_source)\n",
    "                source_file_info = CsvFileInfoOverride.build_data_item(source_file, file_source.destination_table)\n",
    "                table_mapper.files.append(source_file_info)\n",
    "\n",
    "            all_available_files.append(table_mapper)\n",
    "\n",
    "    return all_available_files\n",
    "\n",
    "\n",
    "all_available_files = available_source_files()\n",
    "print(all_available_files[0])"
   ]
  },
  {
   "cell_type": "code",
   "execution_count": 2,
   "metadata": {},
   "outputs": [
    {
     "name": "stdout",
     "output_type": "stream",
     "text": [
      "table_name='claim_raw' append_or_replace='append' files=[CsvFileInfoOverride(file_path=PosixPath('/Users/jm/temp/caravan/Caravan Historical Data/2023/1.23/0_claim_raw_v1-1/YouTube_CaravanAffiliates_M_20230101_claim_raw_v1-1.csv.gz'), file_dir='/Users/jm/temp/caravan/Caravan Historical Data/2023/1.23/0_claim_raw_v1-1', file_name='YouTube_CaravanAffiliates_M_20230101_claim_raw_v1-1.csv.gz', file_name_without_extension='YouTube_CaravanAffiliates_M_20230101_claim_raw_v1-1', file_version='v1-1', table_name='claim_raw', file_size_in_bytes=32868194, file_size='31.35 MB'), CsvFileInfoOverride(file_path=PosixPath('/Users/jm/temp/caravan/Caravan Historical Data/2023/1.23/0_claim_raw_v1-1/YouTube_CaravanInc_M_20230101_claim_raw_v1-1.csv.gz'), file_dir='/Users/jm/temp/caravan/Caravan Historical Data/2023/1.23/0_claim_raw_v1-1', file_name='YouTube_CaravanInc_M_20230101_claim_raw_v1-1.csv.gz', file_name_without_extension='YouTube_CaravanInc_M_20230101_claim_raw_v1-1', file_version='v1-1', table_name='claim_raw', file_size_in_bytes=725795, file_size='708.78 KB'), CsvFileInfoOverride(file_path=PosixPath('/Users/jm/temp/caravan/Caravan Historical Data/2023/1.23/0_claim_raw_v1-1/YouTube_kcrw+user_M_20230101_claim_raw_v1-1.csv.gz'), file_dir='/Users/jm/temp/caravan/Caravan Historical Data/2023/1.23/0_claim_raw_v1-1', file_name='YouTube_kcrw+user_M_20230101_claim_raw_v1-1.csv.gz', file_name_without_extension='YouTube_kcrw+user_M_20230101_claim_raw_v1-1', file_version='v1-1', table_name='claim_raw', file_size_in_bytes=42563, file_size='41.57 KB'), CsvFileInfoOverride(file_path=PosixPath('/Users/jm/temp/caravan/Caravan Historical Data/2023/1.23/0_claim_raw_adj_v1-1/YouTube_CaravanAffiliates_M_20230101_ADJ_claim_raw_v1-1.csv.gz'), file_dir='/Users/jm/temp/caravan/Caravan Historical Data/2023/1.23/0_claim_raw_adj_v1-1', file_name='YouTube_CaravanAffiliates_M_20230101_ADJ_claim_raw_v1-1.csv.gz', file_name_without_extension='YouTube_CaravanAffiliates_M_20230101_ADJ_claim_raw_v1-1', file_version='v1-1', table_name='claim_raw', file_size_in_bytes=81293, file_size='79.39 KB'), CsvFileInfoOverride(file_path=PosixPath('/Users/jm/temp/caravan/Caravan Historical Data/2023/5.23/0_claim_raw_v1-1/YouTube_CaravanAffiliates_M_20230501_claim_raw_v1-1.csv.gz'), file_dir='/Users/jm/temp/caravan/Caravan Historical Data/2023/5.23/0_claim_raw_v1-1', file_name='YouTube_CaravanAffiliates_M_20230501_claim_raw_v1-1.csv.gz', file_name_without_extension='YouTube_CaravanAffiliates_M_20230501_claim_raw_v1-1', file_version='v1-1', table_name='claim_raw', file_size_in_bytes=31591650, file_size='30.13 MB'), CsvFileInfoOverride(file_path=PosixPath('/Users/jm/temp/caravan/Caravan Historical Data/2023/5.23/0_claim_raw_v1-1/YouTube_CaravanInc_M_20230501_claim_raw_v1-1.csv.gz'), file_dir='/Users/jm/temp/caravan/Caravan Historical Data/2023/5.23/0_claim_raw_v1-1', file_name='YouTube_CaravanInc_M_20230501_claim_raw_v1-1.csv.gz', file_name_without_extension='YouTube_CaravanInc_M_20230501_claim_raw_v1-1', file_version='v1-1', table_name='claim_raw', file_size_in_bytes=536691, file_size='524.11 KB'), CsvFileInfoOverride(file_path=PosixPath('/Users/jm/temp/caravan/Caravan Historical Data/2023/5.23/0_claim_raw_v1-1/YouTube_kcrw+user_M_20230501_claim_raw_v1-1.csv.gz'), file_dir='/Users/jm/temp/caravan/Caravan Historical Data/2023/5.23/0_claim_raw_v1-1', file_name='YouTube_kcrw+user_M_20230501_claim_raw_v1-1.csv.gz', file_name_without_extension='YouTube_kcrw+user_M_20230501_claim_raw_v1-1', file_version='v1-1', table_name='claim_raw', file_size_in_bytes=50287, file_size='49.11 KB'), CsvFileInfoOverride(file_path=PosixPath('/Users/jm/temp/caravan/Caravan Historical Data/2023/5.23/0_claim_raw_adj_v1-1/YouTube_CaravanAffiliates_M_20230501_ADJ_claim_raw_v1-1.csv.gz'), file_dir='/Users/jm/temp/caravan/Caravan Historical Data/2023/5.23/0_claim_raw_adj_v1-1', file_name='YouTube_CaravanAffiliates_M_20230501_ADJ_claim_raw_v1-1.csv.gz', file_name_without_extension='YouTube_CaravanAffiliates_M_20230501_ADJ_claim_raw_v1-1', file_version='v1-1', table_name='claim_raw', file_size_in_bytes=26100, file_size='25.49 KB'), CsvFileInfoOverride(file_path=PosixPath('/Users/jm/temp/caravan/Caravan Historical Data/2023/4.23/0_claim_raw_v1-1/YouTube_kcrw+user_M_20230401_claim_raw_v1-1.csv.gz'), file_dir='/Users/jm/temp/caravan/Caravan Historical Data/2023/4.23/0_claim_raw_v1-1', file_name='YouTube_kcrw+user_M_20230401_claim_raw_v1-1.csv.gz', file_name_without_extension='YouTube_kcrw+user_M_20230401_claim_raw_v1-1', file_version='v1-1', table_name='claim_raw', file_size_in_bytes=48582, file_size='47.44 KB'), CsvFileInfoOverride(file_path=PosixPath('/Users/jm/temp/caravan/Caravan Historical Data/2023/4.23/0_claim_raw_v1-1/YouTube_CaravanInc_M_20230401_claim_raw_v1-1.csv.gz'), file_dir='/Users/jm/temp/caravan/Caravan Historical Data/2023/4.23/0_claim_raw_v1-1', file_name='YouTube_CaravanInc_M_20230401_claim_raw_v1-1.csv.gz', file_name_without_extension='YouTube_CaravanInc_M_20230401_claim_raw_v1-1', file_version='v1-1', table_name='claim_raw', file_size_in_bytes=603689, file_size='589.54 KB'), CsvFileInfoOverride(file_path=PosixPath('/Users/jm/temp/caravan/Caravan Historical Data/2023/4.23/0_claim_raw_v1-1/YouTube_CaravanAffiliates_M_20230401_claim_raw_v1-1.csv.gz'), file_dir='/Users/jm/temp/caravan/Caravan Historical Data/2023/4.23/0_claim_raw_v1-1', file_name='YouTube_CaravanAffiliates_M_20230401_claim_raw_v1-1.csv.gz', file_name_without_extension='YouTube_CaravanAffiliates_M_20230401_claim_raw_v1-1', file_version='v1-1', table_name='claim_raw', file_size_in_bytes=30982861, file_size='29.55 MB'), CsvFileInfoOverride(file_path=PosixPath('/Users/jm/temp/caravan/Caravan Historical Data/2023/4.23/0_claim_raw_adj_v1-1/YouTube_kcrw+user_M_20230401_ADJ_claim_raw_v1-1.csv.gz'), file_dir='/Users/jm/temp/caravan/Caravan Historical Data/2023/4.23/0_claim_raw_adj_v1-1', file_name='YouTube_kcrw+user_M_20230401_ADJ_claim_raw_v1-1.csv.gz', file_name_without_extension='YouTube_kcrw+user_M_20230401_ADJ_claim_raw_v1-1', file_version='v1-1', table_name='claim_raw', file_size_in_bytes=809, file_size='809.00 B'), CsvFileInfoOverride(file_path=PosixPath('/Users/jm/temp/caravan/Caravan Historical Data/2023/4.23/0_claim_raw_adj_v1-1/YouTube_CaravanAffiliates_M_20230401_ADJ_claim_raw_v1-1.csv.gz'), file_dir='/Users/jm/temp/caravan/Caravan Historical Data/2023/4.23/0_claim_raw_adj_v1-1', file_name='YouTube_CaravanAffiliates_M_20230401_ADJ_claim_raw_v1-1.csv.gz', file_name_without_extension='YouTube_CaravanAffiliates_M_20230401_ADJ_claim_raw_v1-1', file_version='v1-1', table_name='claim_raw', file_size_in_bytes=20300, file_size='19.82 KB'), CsvFileInfoOverride(file_path=PosixPath('/Users/jm/temp/caravan/Caravan Historical Data/2023/3.23/0_claim_raw_v1-1/YouTube_CaravanInc_M_20230301_claim_raw_v1-1.csv.gz'), file_dir='/Users/jm/temp/caravan/Caravan Historical Data/2023/3.23/0_claim_raw_v1-1', file_name='YouTube_CaravanInc_M_20230301_claim_raw_v1-1.csv.gz', file_name_without_extension='YouTube_CaravanInc_M_20230301_claim_raw_v1-1', file_version='v1-1', table_name='claim_raw', file_size_in_bytes=699346, file_size='682.96 KB'), CsvFileInfoOverride(file_path=PosixPath('/Users/jm/temp/caravan/Caravan Historical Data/2023/3.23/0_claim_raw_v1-1/YouTube_kcrw+user_M_20230301_claim_raw_v1-1.csv.gz'), file_dir='/Users/jm/temp/caravan/Caravan Historical Data/2023/3.23/0_claim_raw_v1-1', file_name='YouTube_kcrw+user_M_20230301_claim_raw_v1-1.csv.gz', file_name_without_extension='YouTube_kcrw+user_M_20230301_claim_raw_v1-1', file_version='v1-1', table_name='claim_raw', file_size_in_bytes=44686, file_size='43.64 KB'), CsvFileInfoOverride(file_path=PosixPath('/Users/jm/temp/caravan/Caravan Historical Data/2023/3.23/0_claim_raw_v1-1/YouTube_CaravanAffiliates_M_20230301_claim_raw_v1-1.csv.gz'), file_dir='/Users/jm/temp/caravan/Caravan Historical Data/2023/3.23/0_claim_raw_v1-1', file_name='YouTube_CaravanAffiliates_M_20230301_claim_raw_v1-1.csv.gz', file_name_without_extension='YouTube_CaravanAffiliates_M_20230301_claim_raw_v1-1', file_version='v1-1', table_name='claim_raw', file_size_in_bytes=33061977, file_size='31.53 MB'), CsvFileInfoOverride(file_path=PosixPath('/Users/jm/temp/caravan/Caravan Historical Data/2023/3.23/0_claim_raw_adj_v1-1/YouTube_CaravanAffiliates_M_20230301_ADJ_claim_raw_v1-1.csv.gz'), file_dir='/Users/jm/temp/caravan/Caravan Historical Data/2023/3.23/0_claim_raw_adj_v1-1', file_name='YouTube_CaravanAffiliates_M_20230301_ADJ_claim_raw_v1-1.csv.gz', file_name_without_extension='YouTube_CaravanAffiliates_M_20230301_ADJ_claim_raw_v1-1', file_version='v1-1', table_name='claim_raw', file_size_in_bytes=17718, file_size='17.30 KB'), CsvFileInfoOverride(file_path=PosixPath('/Users/jm/temp/caravan/Caravan Historical Data/2023/2.23/0_claim_raw_v1-1/YouTube_CaravanAffiliates_M_20230201_claim_raw_v1-1.csv.gz'), file_dir='/Users/jm/temp/caravan/Caravan Historical Data/2023/2.23/0_claim_raw_v1-1', file_name='YouTube_CaravanAffiliates_M_20230201_claim_raw_v1-1.csv.gz', file_name_without_extension='YouTube_CaravanAffiliates_M_20230201_claim_raw_v1-1', file_version='v1-1', table_name='claim_raw', file_size_in_bytes=30598001, file_size='29.18 MB'), CsvFileInfoOverride(file_path=PosixPath('/Users/jm/temp/caravan/Caravan Historical Data/2023/2.23/0_claim_raw_v1-1/YouTube_kcrw+user_M_20230201_claim_raw_v1-1.csv.gz'), file_dir='/Users/jm/temp/caravan/Caravan Historical Data/2023/2.23/0_claim_raw_v1-1', file_name='YouTube_kcrw+user_M_20230201_claim_raw_v1-1.csv.gz', file_name_without_extension='YouTube_kcrw+user_M_20230201_claim_raw_v1-1', file_version='v1-1', table_name='claim_raw', file_size_in_bytes=36815, file_size='35.95 KB'), CsvFileInfoOverride(file_path=PosixPath('/Users/jm/temp/caravan/Caravan Historical Data/2023/2.23/0_claim_raw_v1-1/YouTube_CaravanInc_M_20230201_claim_raw_v1-1.csv.gz'), file_dir='/Users/jm/temp/caravan/Caravan Historical Data/2023/2.23/0_claim_raw_v1-1', file_name='YouTube_CaravanInc_M_20230201_claim_raw_v1-1.csv.gz', file_name_without_extension='YouTube_CaravanInc_M_20230201_claim_raw_v1-1', file_version='v1-1', table_name='claim_raw', file_size_in_bytes=765537, file_size='747.59 KB'), CsvFileInfoOverride(file_path=PosixPath('/Users/jm/temp/caravan/Caravan Historical Data/2023/2.23/0_claim_raw_adj_v1-1/YouTube_CaravanAffiliates_M_20230201_ADJ_claim_raw_v1-1.csv.gz'), file_dir='/Users/jm/temp/caravan/Caravan Historical Data/2023/2.23/0_claim_raw_adj_v1-1', file_name='YouTube_CaravanAffiliates_M_20230201_ADJ_claim_raw_v1-1.csv.gz', file_name_without_extension='YouTube_CaravanAffiliates_M_20230201_ADJ_claim_raw_v1-1', file_version='v1-1', table_name='claim_raw', file_size_in_bytes=17645, file_size='17.23 KB'), CsvFileInfoOverride(file_path=PosixPath('/Users/jm/temp/caravan/Caravan Historical Data/2023/6.23/0_claim_raw_v1-1/YouTube_CaravanAffiliates_M_20230601_claim_raw_v1-1.csv.gz'), file_dir='/Users/jm/temp/caravan/Caravan Historical Data/2023/6.23/0_claim_raw_v1-1', file_name='YouTube_CaravanAffiliates_M_20230601_claim_raw_v1-1.csv.gz', file_name_without_extension='YouTube_CaravanAffiliates_M_20230601_claim_raw_v1-1', file_version='v1-1', table_name='claim_raw', file_size_in_bytes=30903652, file_size='29.47 MB'), CsvFileInfoOverride(file_path=PosixPath('/Users/jm/temp/caravan/Caravan Historical Data/2023/6.23/0_claim_raw_v1-1/YouTube_kcrw+user_M_20230601_claim_raw_v1-1.csv.gz'), file_dir='/Users/jm/temp/caravan/Caravan Historical Data/2023/6.23/0_claim_raw_v1-1', file_name='YouTube_kcrw+user_M_20230601_claim_raw_v1-1.csv.gz', file_name_without_extension='YouTube_kcrw+user_M_20230601_claim_raw_v1-1', file_version='v1-1', table_name='claim_raw', file_size_in_bytes=69972, file_size='68.33 KB'), CsvFileInfoOverride(file_path=PosixPath('/Users/jm/temp/caravan/Caravan Historical Data/2023/6.23/0_claim_raw_v1-1/YouTube_CaravanInc_M_20230601_claim_raw_v1-1.csv.gz'), file_dir='/Users/jm/temp/caravan/Caravan Historical Data/2023/6.23/0_claim_raw_v1-1', file_name='YouTube_CaravanInc_M_20230601_claim_raw_v1-1.csv.gz', file_name_without_extension='YouTube_CaravanInc_M_20230601_claim_raw_v1-1', file_version='v1-1', table_name='claim_raw', file_size_in_bytes=545684, file_size='532.89 KB'), CsvFileInfoOverride(file_path=PosixPath('/Users/jm/temp/caravan/Caravan Historical Data/2023/6.23/0_claim_raw_adj_v1-1/YouTube_CaravanAffiliates_M_20230601_ADJ_claim_raw_v1-1.csv.gz'), file_dir='/Users/jm/temp/caravan/Caravan Historical Data/2023/6.23/0_claim_raw_adj_v1-1', file_name='YouTube_CaravanAffiliates_M_20230601_ADJ_claim_raw_v1-1.csv.gz', file_name_without_extension='YouTube_CaravanAffiliates_M_20230601_ADJ_claim_raw_v1-1', file_version='v1-1', table_name='claim_raw', file_size_in_bytes=36033, file_size='35.19 KB')]\n"
     ]
    }
   ],
   "source": [
    "from datawagon.objects.source_file_scanner import SourceFilesToDatabase\n",
    "\n",
    "file_loader = SourceFilesToDatabase()\n",
    "\n",
    "all_available_files = file_loader.available_source_files()\n",
    "print(all_available_files[0])"
   ]
  }
 ],
 "metadata": {
  "kernelspec": {
   "display_name": "datawagon-UJhKYycn-py3.11",
   "language": "python",
   "name": "python3"
  },
  "language_info": {
   "codemirror_mode": {
    "name": "ipython",
    "version": 3
   },
   "file_extension": ".py",
   "mimetype": "text/x-python",
   "name": "python",
   "nbconvert_exporter": "python",
   "pygments_lexer": "ipython3",
   "version": "3.11.4"
  },
  "orig_nbformat": 4
 },
 "nbformat": 4,
 "nbformat_minor": 2
}
