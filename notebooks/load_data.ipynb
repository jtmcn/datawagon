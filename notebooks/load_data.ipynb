{
 "cells": [
  {
   "cell_type": "code",
   "execution_count": 1,
   "metadata": {},
   "outputs": [
    {
     "name": "stdout",
     "output_type": "stream",
     "text": [
      "Table Update Failed: '_file_name'\n",
      "Successfully imported data into database\n"
     ]
    }
   ],
   "source": [
    "from pathlib import Path\n",
    "from datawagon.objects.csv_file_info_override import CsvFileInfoOverride\n",
    "from datawagon.objects.csv_loader import CSVLoader\n",
    "from datawagon.objects.postgres_database_manager import PostgresDatabaseManager\n",
    "\n",
    "csv_file = Path('/Users/jm/temp/caravan/video_report_CaravanAffiliates_V_v1-3.csv' )\n",
    "\n",
    "db_manager = PostgresDatabaseManager('postgresql://postgres:@donut.pls.coffee:5432/caravan', 'src_csv')\n",
    "\n",
    "csv_info = CsvFileInfoOverride.build_data_item(csv_file, 'video_report')\n",
    "\n",
    "loader = CSVLoader(csv_info)\n",
    "\n",
    "df = loader.load_data()\n",
    "\n",
    "if db_manager.load_dataframe_into_database(\n",
    "    df, csv_info.table_name, is_appended=False\n",
    "):\n",
    "   print(\"Successfully imported data into database\")\n",
    "else:\n",
    "    print(\"Import failed\")\n"
   ]
  }
 ],
 "metadata": {
  "kernelspec": {
   "display_name": "datawagon-UJhKYycn-py3.11",
   "language": "python",
   "name": "python3"
  },
  "language_info": {
   "codemirror_mode": {
    "name": "ipython",
    "version": 3
   },
   "file_extension": ".py",
   "mimetype": "text/x-python",
   "name": "python",
   "nbconvert_exporter": "python",
   "pygments_lexer": "ipython3",
   "version": "3.11.4"
  },
  "orig_nbformat": 4
 },
 "nbformat": 4,
 "nbformat_minor": 2
}
